{
 "cells": [
  {
   "cell_type": "code",
   "execution_count": 1,
   "metadata": {},
   "outputs": [],
   "source": [
    "from PIL import Image\n",
    "import numpy as np\n",
    "import matplotlib.pyplot as plt\n",
    "import os\n",
    "from wordcloud import WordCloud, STOPWORDS, ImageColorGenerator"
   ]
  },
  {
   "cell_type": "code",
   "execution_count": 3,
   "metadata": {},
   "outputs": [],
   "source": [
    "image = np.array(Image.open('./assets/smile-mask.jpg'))"
   ]
  },
  {
   "cell_type": "code",
   "execution_count": 5,
   "metadata": {},
   "outputs": [],
   "source": [
    "wc = WordCloud(background_color=\"white\", max_words=1000, mask=image)"
   ]
  },
  {
   "cell_type": "code",
   "execution_count": 16,
   "metadata": {},
   "outputs": [],
   "source": [
    "import pandas as pd\n",
    "filename = 'xmas'\n",
    "data = pd.read_csv(f'../public/dataset/{filename}.csv').set_index('text').to_dict()['frequency']"
   ]
  },
  {
   "cell_type": "code",
   "execution_count": 17,
   "metadata": {},
   "outputs": [
    {
     "data": {
      "text/plain": [
       "{'angel': 15,\n",
       " 'bell': 20,\n",
       " 'candle': 30,\n",
       " 'candy': 35,\n",
       " 'celebrate': 20,\n",
       " 'ceremony': 5,\n",
       " 'chestnuts': 15,\n",
       " 'chimney': 15,\n",
       " 'Christmas': 60,\n",
       " 'Xmas': 40,\n",
       " 'eve': 30,\n",
       " 'decoration': 20,\n",
       " 'evergreen': 30,\n",
       " 'family': 20,\n",
       " 'festive': 20,\n",
       " 'feast': 20,\n",
       " 'firewood': 5,\n",
       " 'gift': 40,\n",
       " 'gingerbread': 20,\n",
       " 'gold': 5,\n",
       " 'goose': 5,\n",
       " 'happy': 30,\n",
       " 'holiday': 20,\n",
       " 'chocolate': 20,\n",
       " 'cider': 10,\n",
       " 'hug': 20,\n",
       " 'joy': 20,\n",
       " 'mitten': 20,\n",
       " 'Merry Christmas': 30,\n",
       " 'ornament': 10,\n",
       " 'party': 40,\n",
       " 'pine tree': 40,\n",
       " 'poinsettia': 30,\n",
       " 'present': 40,\n",
       " 'reunion': 20,\n",
       " 'star': 15,\n",
       " 'yule': 10,\n",
       " 'wrap': 5,\n",
       " 'visit': 10,\n",
       " 'toboggan': 5,\n",
       " 'spirit': 20,\n",
       " 'skate': 20,\n",
       " 'scarf': 10,\n",
       " 'Santa': 40,\n",
       " 'St. Nicholas': 5,\n",
       " 'sales': 20,\n",
       " 'sleign': 10,\n",
       " 'snow': 30,\n",
       " 'red': 10}"
      ]
     },
     "execution_count": 17,
     "metadata": {},
     "output_type": "execute_result"
    }
   ],
   "source": [
    "data"
   ]
  },
  {
   "cell_type": "code",
   "execution_count": null,
   "metadata": {},
   "outputs": [],
   "source": []
  }
 ],
 "metadata": {
  "kernelspec": {
   "display_name": "Python 3",
   "language": "python",
   "name": "python3"
  },
  "language_info": {
   "codemirror_mode": {
    "name": "ipython",
    "version": 3
   },
   "file_extension": ".py",
   "mimetype": "text/x-python",
   "name": "python",
   "nbconvert_exporter": "python",
   "pygments_lexer": "ipython3",
   "version": "3.6.2"
  }
 },
 "nbformat": 4,
 "nbformat_minor": 4
}
